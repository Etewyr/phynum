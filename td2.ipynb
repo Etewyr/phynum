{
 "cells": [
  {
   "cell_type": "markdown",
   "metadata": {},
   "source": [
    "Libraries"
   ]
  },
  {
   "cell_type": "code",
   "execution_count": 5,
   "metadata": {},
   "outputs": [],
   "source": [
    "import numpy as np"
   ]
  },
  {
   "cell_type": "markdown",
   "metadata": {},
   "source": [
    "1 Statistical analysis of a series of random variables"
   ]
  },
  {
   "cell_type": "code",
   "execution_count": 26,
   "metadata": {},
   "outputs": [],
   "source": [
    "def q11(M_b,n_b):\n",
    "    Z = np.random.rand(n_b,M_b) #Array des z_i\n",
    "    V_z = np.var(Z)\n",
    "    V_Z = np.var(np.mean(Z,axis=1))\n",
    "    print(V_z)\n",
    "    print(M_b*V_Z)\n",
    "\n",
    "q11(10000,10000)"
   ]
  },
  {
   "cell_type": "code",
   "execution_count": 33,
   "metadata": {},
   "outputs": [],
   "source": [
    "def q12(M_b,n_b,p):\n",
    "    theta_0 = np.random.rand(M_b * n_b)\n",
    "    theta = np.zeros(M_b * n_b)\n",
    "    xi = np.random.rand(1)\n",
    "    for i,theta_i in enumerate(theta_0[:-2]):\n",
    "        if (theta_i - 0.5)*(xi - 0.5) >= 0:\n",
    "            theta[i+1]=xi\n",
    "        else: \n",
    "            eta = np.random.rand(1)\n",
    "            if eta < p:\n",
    "                theta[i+1]=theta_i\n",
    "            else:\n",
    "                theta[i+1]=xi\n",
    "    return(theta_0,theta)    \n",
    "theta_0,theta = q12(1000,1000,0.5)\n",
    "\n",
    "V_theta = np.var(theta)\n",
    "V_THETA = np.var(np.mean(np.reshape(theta,(1000,1000)),axis=1))\n",
    "\n",
    "tau = 0.5 * V_THETA/V_theta"
   ]
  },
  {
   "cell_type": "code",
   "execution_count": null,
   "metadata": {},
   "outputs": [],
   "source": []
  }
 ],
 "metadata": {
  "kernelspec": {
   "display_name": "Python 3.10.7 64-bit",
   "language": "python",
   "name": "python3"
  },
  "language_info": {
   "codemirror_mode": {
    "name": "ipython",
    "version": 3
   },
   "file_extension": ".py",
   "mimetype": "text/x-python",
   "name": "python",
   "nbconvert_exporter": "python",
   "pygments_lexer": "ipython3",
   "version": "3.10.7"
  },
  "orig_nbformat": 4,
  "vscode": {
   "interpreter": {
    "hash": "c5f5787249c6ef38c03a01a3e8611ec7bb29fc9a705c8f19676b5c6bd5be07ff"
   }
  }
 },
 "nbformat": 4,
 "nbformat_minor": 2
}
